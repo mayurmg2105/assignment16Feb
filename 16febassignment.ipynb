{
 "cells": [
  {
   "cell_type": "code",
   "execution_count": null,
   "id": "bc85e7a0-d9dd-4a9f-bd45-85d1d8222061",
   "metadata": {},
   "outputs": [],
   "source": [
    "# Question 1: What is a database? Differentiate between SQL and NoSQL databases."
   ]
  },
  {
   "cell_type": "code",
   "execution_count": null,
   "id": "d63e395a-e6e3-4ec2-88a6-6b9c1d7ca050",
   "metadata": {},
   "outputs": [],
   "source": [
    "#Ans  database is a collection of organized data that is stored and managed on a computer system. It allows for efficient storage, retrieval, and manipulation of large amounts of data. A database system typically consists of software that manages the data, a database server that stores the data, and one or more applications that access the data. It is an organized collection of data that can be easily accessed, managed, and updated. It can be a physical or a digital storage system where data is stored in tables, documents, key-value pairs, or graphs, depending on the type of database."
   ]
  },
  {
   "cell_type": "code",
   "execution_count": null,
   "id": "136aca98-f3ff-420d-9cbf-073802c5b5d4",
   "metadata": {},
   "outputs": [],
   "source": [
    "#Question 2: What is DDL? Explain why CREATE, DROP, ALTER, and TRUNCATE are used with an example.\n",
    " #Ans DDL stands for Data Definition Language, which is a subset of SQL statements used to define and manage the structure of a database.\n",
    "    #CREATE is a DDL statement that is used to create a new database, table, view, or other database object. For example, to create a new table named \"employees\" with columns for ID, name, and department, the following SQL statement can be used:\n",
    "    #DROP is a DDL statement used to delete an existing database, table, view, or other database object. For example, to delete the \"employees\" table, the following SQL statement can be used:\n",
    "\n",
    "#ALTER is a DDL statement used to modify the structure of an existing database object. For example, to add a new column for \"salary\" to the \"employees\" table, the following SQL statement can be used:\n",
    "\n",
    "#TRUNCATE is a DDL statement used to remove all data from a table, but keep the table structure intact. For example, to remove all data from the \"employees\" table, the following SQL statement can be used:\n",
    "\n",
    "#In summary, DDL statements like CREATE, DROP, ALTER, and TRUNCATE are used to define and manage the structure of a database and its objects."
   ]
  },
  {
   "cell_type": "code",
   "execution_count": null,
   "id": "4dea64e5-00c2-4e85-8357-d449f9db20d1",
   "metadata": {},
   "outputs": [],
   "source": [
    "#Question 3: What is DML? Explain INSERT, UPDATE, and DELETE with an example."
   ]
  },
  {
   "cell_type": "code",
   "execution_count": null,
   "id": "5e3382c4-a1f6-4573-b4fe-eab29681e749",
   "metadata": {},
   "outputs": [],
   "source": [
    "#Ans DML stands for Data Manipulation Language and is used to manipulate data stored in a database. It includes commands such as INSERT, UPDATE, and DELETE.\n",
    "#INSERT: The INSERT statement is used to add new records to a table. Here's an example:\n",
    "#This statement inserts a new record with the values 'John', 'Doe', and 'john.doe@email.com' into the 'employees' table.\n",
    "#UPDATE: The UPDATE statement is used to modify existing records in a table. Here's an example:\n",
    "#This statement updates the 'salary' column for the record with an 'employee_id' of 1234 in the 'employees' table to 60000.\n",
    "\n",
    "#DELETE: The DELETE statement is used to delete records from a table. Here's an example:\n",
    "\n",
    "#This statement deletes the record with an 'employee_id' of 5678 from the 'employees' table."
   ]
  },
  {
   "cell_type": "code",
   "execution_count": 1,
   "id": "1efcc8d3-58ba-4665-9953-e825e3a2b77e",
   "metadata": {},
   "outputs": [],
   "source": [
    "#Question 4: What is DQL? Explain SELECT with an example."
   ]
  },
  {
   "cell_type": "code",
   "execution_count": 2,
   "id": "c66c38c3-fd92-4c20-8304-491e5fbe29df",
   "metadata": {},
   "outputs": [],
   "source": [
    "#DQL stands for Data Query Language, which is a subset of SQL that is used to retrieve data from a database. The most commonly used DQL command is SELECT, which is used to select data from a table in a database."
   ]
  },
  {
   "cell_type": "code",
   "execution_count": 4,
   "id": "c0442486-348b-4847-be15-3a0696f73b03",
   "metadata": {},
   "outputs": [],
   "source": [
    "#select cloumn1 , column2 , ... from table_name where condition  ;"
   ]
  },
  {
   "cell_type": "code",
   "execution_count": 5,
   "id": "312eafc3-15cb-4e4a-8485-fd0f63575d74",
   "metadata": {},
   "outputs": [],
   "source": [
    "#Question 5: Explain Primary Key and Foreign Key."
   ]
  },
  {
   "cell_type": "code",
   "execution_count": 6,
   "id": "f712a0c1-cd35-4a6c-97bc-bd82388359dc",
   "metadata": {},
   "outputs": [],
   "source": [
    "#Ans primary key = primary key generally focuses on the uniqueness of the table. It assures the value in the specific column is unique."
   ]
  },
  {
   "cell_type": "code",
   "execution_count": 7,
   "id": "02182f88-92bd-404d-a1c8-fb9d502becef",
   "metadata": {},
   "outputs": [],
   "source": [
    "#foreign key\n",
    "#foreign key is generally used to build a relationship between the two tables."
   ]
  },
  {
   "cell_type": "code",
   "execution_count": 8,
   "id": "32330b34-e1f2-4b7a-a879-d23830cebf65",
   "metadata": {},
   "outputs": [],
   "source": [
    "#Question 6: Write a python code to connect MySQL to python. Explain the cursor() and execute() method"
   ]
  },
  {
   "cell_type": "code",
   "execution_count": 9,
   "id": "0ff2487f-340a-4cdb-b3bd-e79f546b835b",
   "metadata": {},
   "outputs": [
    {
     "ename": "ModuleNotFoundError",
     "evalue": "No module named 'mysql'",
     "output_type": "error",
     "traceback": [
      "\u001b[0;31m---------------------------------------------------------------------------\u001b[0m",
      "\u001b[0;31mModuleNotFoundError\u001b[0m                       Traceback (most recent call last)",
      "Cell \u001b[0;32mIn[9], line 2\u001b[0m\n\u001b[1;32m      1\u001b[0m \u001b[38;5;66;03m#Ans = \u001b[39;00m\n\u001b[0;32m----> 2\u001b[0m \u001b[38;5;28;01mimport\u001b[39;00m \u001b[38;5;21;01mmysql\u001b[39;00m\u001b[38;5;21;01m.\u001b[39;00m\u001b[38;5;21;01mconnector\u001b[39;00m \n\u001b[1;32m      5\u001b[0m \u001b[38;5;66;03m# establishing the connection \u001b[39;00m\n\u001b[1;32m      7\u001b[0m mydb\u001b[38;5;241m=\u001b[39mmysql\u001b[38;5;241m.\u001b[39mconnector\u001b[38;5;241m.\u001b[39mconnect(\n\u001b[1;32m      8\u001b[0m host \u001b[38;5;241m=\u001b[39m\u001b[38;5;124m\"\u001b[39m\u001b[38;5;124mlocalhost\u001b[39m\u001b[38;5;124m\"\u001b[39m ,\n\u001b[1;32m      9\u001b[0m user\u001b[38;5;241m=\u001b[39m\u001b[38;5;124m\"\u001b[39m\u001b[38;5;124musername\u001b[39m\u001b[38;5;124m\"\u001b[39m , \n\u001b[1;32m     10\u001b[0m password\u001b[38;5;241m=\u001b[39m\u001b[38;5;124m\"\u001b[39m\u001b[38;5;124mpassword\u001b[39m\u001b[38;5;124m\"\u001b[39m , \n\u001b[1;32m     11\u001b[0m database\u001b[38;5;241m=\u001b[39m\u001b[38;5;124m\"\u001b[39m\u001b[38;5;124mdatabasename\u001b[39m\u001b[38;5;124m\"\u001b[39m\n\u001b[1;32m     12\u001b[0m )\n",
      "\u001b[0;31mModuleNotFoundError\u001b[0m: No module named 'mysql'"
     ]
    }
   ],
   "source": [
    "#Ans = \n",
    "import mysql.connector \n",
    "\n",
    "\n",
    "# establishing the connection \n",
    "\n",
    "mydb=mysql.connector.connect(\n",
    "host =\"localhost\" ,\n",
    "user=\"username\" , \n",
    "password=\"password\" , \n",
    "database=\"databasename\"\n",
    ")\n",
    "\n",
    "\n",
    "# creating a cursor object \n",
    "\n",
    "mycursor=mydb.cursor()\n",
    "\n",
    "\n",
    "# executing a sql query \n",
    "\n",
    "mycursor.execute(\"select * from table_name\")\n",
    "\n",
    "\n",
    "# fetching the results \n",
    "\n",
    "result = mycursor.fetchall()\n",
    "\n",
    "# printing the results \n",
    "\n",
    "\n",
    "for row in result :\n",
    "    print(row)"
   ]
  },
  {
   "cell_type": "code",
   "execution_count": null,
   "id": "cb6a1ea6-b149-429a-9579-26088e0f4440",
   "metadata": {},
   "outputs": [],
   "source": [
    "In the above code, we first import the mysql.connector library and then establish a connection to the MySQL server using the connect() method. We pass the required parameters such as the host, username, password, and database name to this method.\n",
    "\n",
    "Next, we create a cursor object using the cursor() method of the connection object. This cursor is used to execute SQL queries and fetch the results.\n",
    "\n",
    "We then execute an SQL query using the execute() method of the cursor object. This method takes the SQL query as a parameter and executes it on the database.\n",
    "\n",
    "Finally, we fetch the results using the fetchall() method of the cursor object, which returns all the rows of the result set as a list of tuples. We then iterate over this list and print each row.\n",
    "\n",
    "The cursor() method creates a cursor object which is used to execute SQL queries and fetch the results. The execute() method is used to execute an SQL query on the database. It takes the SQL query as a parameter and returns the result (if any) of the query. The fetchall() method is used to fetch all the rows of the result set as a list of tuples."
   ]
  },
  {
   "cell_type": "code",
   "execution_count": 10,
   "id": "0c535db0-03c4-4cb7-b087-fb127b8c0077",
   "metadata": {},
   "outputs": [],
   "source": [
    "#Question 7: Give the order of execution of SQL clauses in an SQL query."
   ]
  },
  {
   "cell_type": "code",
   "execution_count": 11,
   "id": "afbed937-d8c2-4f31-8c1a-2bd942a602b3",
   "metadata": {},
   "outputs": [],
   "source": [
    "#Answer: In an SQL query, the clauses are executed in the following order:"
   ]
  },
  {
   "cell_type": "code",
   "execution_count": null,
   "id": "08f95919-7e90-41f3-ad97-4ba98c9eb5b2",
   "metadata": {},
   "outputs": [],
   "source": [
    "\n",
    "Answer: In an SQL query, the clauses are executed in the following order:\n",
    "FROM clause: Specifies the table or tables from which to retrieve data.\n",
    "\n",
    "JOIN clause: Specifies how to join multiple tables together, if needed.\n",
    "\n",
    "WHERE clause: Specifies which rows to retrieve based on a set of conditions.\n",
    "\n",
    "GROUP BY clause: Specifies how to group rows based on one or more columns.\n",
    "\n",
    "HAVING clause: Specifies which groups to retrieve based on a set of conditions.\n",
    "\n",
    "SELECT clause: Specifies which columns to retrieve.\n",
    "\n",
    "DISTINCT clause: Specifies to retrieve only distinct values of the specified columns.\n",
    "\n",
    "ORDER BY clause: Specifies how to sort the retrieved rows based on one or more columns.\n",
    "\n",
    "LIMIT clause: Specifies the maximum number of rows to retrieve."
   ]
  }
 ],
 "metadata": {
  "kernelspec": {
   "display_name": "Python 3 (ipykernel)",
   "language": "python",
   "name": "python3"
  },
  "language_info": {
   "codemirror_mode": {
    "name": "ipython",
    "version": 3
   },
   "file_extension": ".py",
   "mimetype": "text/x-python",
   "name": "python",
   "nbconvert_exporter": "python",
   "pygments_lexer": "ipython3",
   "version": "3.10.8"
  }
 },
 "nbformat": 4,
 "nbformat_minor": 5
}
